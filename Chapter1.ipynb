{
 "cells": [
  {
   "cell_type": "code",
   "execution_count": 1,
   "id": "1174f01c-d11f-400c-86bd-94de96345f4a",
   "metadata": {},
   "outputs": [
    {
     "name": "stdout",
     "output_type": "stream",
     "text": [
      "Hello World!\n"
     ]
    }
   ],
   "source": [
    "print('Hello World!')"
   ]
  },
  {
   "cell_type": "code",
   "execution_count": 4,
   "id": "3a64633d-2f9a-49bc-af68-74e8dd3db936",
   "metadata": {},
   "outputs": [
    {
     "name": "stdout",
     "output_type": "stream",
     "text": [
      "6\n"
     ]
    }
   ],
   "source": [
    "x = 6\n",
    "print(x)"
   ]
  },
  {
   "cell_type": "code",
   "execution_count": 7,
   "id": "1acc7181-cce3-4f39-b378-fbf94b79a69c",
   "metadata": {},
   "outputs": [
    {
     "name": "stdout",
     "output_type": "stream",
     "text": [
      "42\n"
     ]
    }
   ],
   "source": [
    "y = x * 7\n",
    "print(y)"
   ]
  },
  {
   "cell_type": "markdown",
   "id": "702c57ae-edfa-4730-b0a5-7fb4e4ca4537",
   "metadata": {},
   "source": [
    "# Glossary\n",
    "\n",
    "**Bug**: an error in the program\n",
    "\n",
    "**Central Processing Unit**: the heart of any computer. What runs the software we write\n",
    "\n",
    "**Compile**: to translate a program written in a high level language into a low level language all at once, in preparation for later execution\n",
    "\n",
    "**High-level Language**: a programming language like Python that is designed to be easy for humans to understand and write\n",
    "\n",
    "**Interactive Mode**: a way of using the Python interpreter by typing commands and expressions at the prompt\n",
    "\n",
    "**Interpret**: to execute a program in a high-level language by translating it one line at a time\n",
    "\n",
    "**Low-level Language**: a programming language that is designed to be easy for a computer to execute\n",
    "\n",
    "**Machine Code**: the lowest level language for software, the language executed by the CPU\n",
    "\n",
    "**Main Memory**: stores programs and data. Loses its information when the power is turned off\n",
    "\n",
    "**Parse**: to examine a program and analyze the syntactic structure\n",
    "\n",
    "**Portability**: a property of a program that can run on more than one type of computer\n",
    "\n",
    "**Print Function**: an instruction that causes the Python interpreter to display a value on the screen\n",
    "\n",
    "**Problem Solving**: the process of formulating a problem, finding a solution, and expressing the solution\n",
    "\n",
    "**Program**: a set of instructions that specifies a computation\n",
    "\n",
    "**Prompt**: when a program displays a message and pauses for the user to type some input to the program\n",
    "\n",
    "**Secondary Memory**: stores programs and data and retains its information even when the power is turned off. Generally slower than main memory.\n",
    "\n",
    "**Semantics**: the meaning of a program\n",
    "\n",
    "**Semantic Error**: an error in a program that makes it do something other than what the programmer intended\n",
    "\n",
    "**Source Code**: a program in a high level language"
   ]
  },
  {
   "cell_type": "markdown",
   "id": "60a38825-e58f-40f2-b8d9-9627ca597dc3",
   "metadata": {},
   "source": [
    "# Exercises"
   ]
  },
  {
   "cell_type": "markdown",
   "id": "9b2e3e66-8128-49b3-baba-61cc5c4d5723",
   "metadata": {},
   "source": [
    "Exercise 1: What is the function of the secondary memory in a computer?"
   ]
  },
  {
   "cell_type": "markdown",
   "id": "e5dcf13c-d667-48c7-b61a-8b4ed9af6d3d",
   "metadata": {},
   "source": [
    "C) store information for the long term, even beyond a power cycle"
   ]
  },
  {
   "cell_type": "markdown",
   "id": "36e52398-33d7-4ca3-b403-f46a0e6e81f6",
   "metadata": {},
   "source": []
  },
  {
   "cell_type": "markdown",
   "id": "6795d49a-142d-43b0-ae13-59212aee9e3c",
   "metadata": {},
   "source": [
    "Exercise 2: What is a program?\n",
    "\n",
    "a set of instructions that specifies a computation"
   ]
  },
  {
   "cell_type": "markdown",
   "id": "30723061-c59e-486e-84bf-e231bae9d118",
   "metadata": {},
   "source": []
  },
  {
   "cell_type": "markdown",
   "id": "892fc600-515e-4f10-a57c-07aa93fca68a",
   "metadata": {},
   "source": [
    "Exercise 3: What is the difference between a compiler and an interpreter?\n",
    "\n",
    "an interpreter can converse back and forth between the high level and low level languages, while a compiler takes a set of instructions and converts them into machine level language"
   ]
  },
  {
   "cell_type": "markdown",
   "id": "15f3cb76-6e90-4dd9-a1f3-cd4c4234bc8e",
   "metadata": {},
   "source": []
  },
  {
   "cell_type": "markdown",
   "id": "c2c36ed6-402f-4cc5-8a0f-fdb50c80c22e",
   "metadata": {},
   "source": [
    "Exercise 4: Which of the following contains \"machine code?\"\n",
    "\n",
    "A) the Python interpreter"
   ]
  },
  {
   "cell_type": "markdown",
   "id": "3c873a27-d756-4fee-8f58-5b4b33dcf09a",
   "metadata": {},
   "source": []
  },
  {
   "cell_type": "markdown",
   "id": "74ab3f2e-993e-4ff9-a5e4-0cb41026a53b",
   "metadata": {},
   "source": [
    "Exercise 5: What is wrong with the following code?\n",
    "\n",
    "The command to print is misspelled \"primt\", and there's a syntax error from the lack of parentheses"
   ]
  },
  {
   "cell_type": "markdown",
   "id": "7a2450cc-765d-43d1-8461-c53bc3bed898",
   "metadata": {},
   "source": []
  },
  {
   "cell_type": "markdown",
   "id": "34da1ad7-a7df-40e1-9476-c3c89625963f",
   "metadata": {},
   "source": [
    "Exercise 6: Where in the computer is a variable such as \"x\" stored after the following Python line finishes?\n",
    "\n",
    "B) Main Memory"
   ]
  },
  {
   "cell_type": "markdown",
   "id": "057d9fc5-e1fb-488f-904c-9c82e8ffc693",
   "metadata": {},
   "source": []
  },
  {
   "cell_type": "code",
   "execution_count": 9,
   "id": "2c16bf7e-4f77-4732-83dd-344d04c54ecc",
   "metadata": {},
   "outputs": [
    {
     "data": {
      "text/plain": [
       "44"
      ]
     },
     "execution_count": 9,
     "metadata": {},
     "output_type": "execute_result"
    }
   ],
   "source": [
    "# Exercise 7: What will the following program print out?\n",
    "\n",
    "# x = 43\n",
    "# x = x + 1\n",
    "# print(x)\n",
    "\n",
    "44"
   ]
  },
  {
   "cell_type": "markdown",
   "id": "3a21c5aa-1c69-4851-92fa-b366374fab6a",
   "metadata": {},
   "source": []
  },
  {
   "cell_type": "markdown",
   "id": "7caca5ca-c38d-4e9d-b326-a0b4726ecc13",
   "metadata": {},
   "source": [
    "Exercise 8: Explain each of the following using an example of a human capability\n",
    "\n",
    "1. CPU - brain\n",
    "\n",
    "2. Main Memory - short term memory\n",
    "\n",
    "3. Secondary Memory - long term memory\n",
    "\n",
    "4. Input device - Eyes\n",
    "\n",
    "5. Output device - mouth"
   ]
  },
  {
   "cell_type": "markdown",
   "id": "921cc942-f72a-4975-ab82-d679471e21c7",
   "metadata": {},
   "source": []
  },
  {
   "cell_type": "markdown",
   "id": "5cd26b17-9ebd-4458-aa81-243c24f95b17",
   "metadata": {},
   "source": [
    "Exercise 9: How do you fix a syntax error?\n",
    "\n",
    "Follow the syntax error prompts to track down the error"
   ]
  }
 ],
 "metadata": {
  "kernelspec": {
   "display_name": "Python 3 (ipykernel)",
   "language": "python",
   "name": "python3"
  },
  "language_info": {
   "codemirror_mode": {
    "name": "ipython",
    "version": 3
   },
   "file_extension": ".py",
   "mimetype": "text/x-python",
   "name": "python",
   "nbconvert_exporter": "python",
   "pygments_lexer": "ipython3",
   "version": "3.9.7"
  }
 },
 "nbformat": 4,
 "nbformat_minor": 5
}
